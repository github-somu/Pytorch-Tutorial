{
  "cells": [
    {
      "cell_type": "markdown",
      "metadata": {
        "id": "view-in-github",
        "colab_type": "text"
      },
      "source": [
        "<a href=\"https://colab.research.google.com/github/github-somu/Pytorch-Tutorial/blob/main/Ass1_ComputerVission_NuralNetwork.ipynb\" target=\"_parent\"><img src=\"https://colab.research.google.com/assets/colab-badge.svg\" alt=\"Open In Colab\"/></a>"
      ]
    },
    {
      "cell_type": "markdown",
      "metadata": {
        "id": "7AOHMMuQG92l"
      },
      "source": [
        "# **Assignment 1**\n",
        "## **Artificial Neural Network for Image Classification**\n",
        "\n",
        "In this assignment, we explore the fundamentals of building a neural network for image classification. Image classification is a core task in computer vision, where the goal is to correctly identify and categorize objects in images. We will design and implement a neural network from scratch using popular machine learning libraries, applying key concepts such as activation functions, and backpropagation. By training the model on a labeled dataset, we aim to evaluate its performance and understand how different network architectures influence classification accuracy. This assignment serves as a practical introduction to deep learning in computer vision."
      ]
    },
    {
      "cell_type": "markdown",
      "metadata": {
        "id": "Qj4mc0OsG92n"
      },
      "source": [
        "===================================================================================================="
      ]
    },
    {
      "cell_type": "markdown",
      "metadata": {
        "id": "iU9LbqE0G92n"
      },
      "source": [
        "<style>\n",
        "blue {\n",
        "  color: skyblue;\n",
        "}\n",
        "\n",
        "red {\n",
        "  color: red;\n",
        "}\n",
        "\n",
        "green {\n",
        "  color: lightgreen;\n",
        "}\n",
        "</style>\n",
        "\n",
        "### **Step - 1**\n",
        "\n",
        "The code below imports essential libraries for building and training an artificial neural network (ANN) using PyTorch.\n",
        "1) <blue>**torch**</blue> and <blue>**torch.nn**</blue> provide core functionality for tensors and neural networks.\n",
        "2) <blue>**optim**</blue> offers optimization algorithms (like <green>**Adam**</green>).\n",
        "3) <blue>**torchvision**</blue> helps with image-related tasks, and transforms aids in image preprocessing.\n",
        "4) <blue>**DataLoader**</blue> is used to load datasets in batches.\n",
        "5) Libraries like <blue>**matplotlib**</blue>, <blue>**seaborn**</blue>, and <blue>**sklearn.metrics**</blue> help visualize results and evaluate the model using metrics such as <green>**accuracy**</green>, <green>**precision**</green>, <green>**recall**</green> etc."
      ]
    },
    {
      "cell_type": "code",
      "execution_count": 10,
      "metadata": {
        "id": "ORuSHSUIG92n"
      },
      "outputs": [],
      "source": [
        "# Import necessary libraries\n",
        "import torch\n",
        "import torch.nn as nn\n",
        "import torch.nn.functional as F\n",
        "import torch.optim as optim\n",
        "import torchvision\n",
        "import torchvision.transforms as transforms\n",
        "from torch.utils.data import DataLoader\n",
        "import matplotlib.pyplot as plt\n",
        "from sklearn.metrics import accuracy_score, precision_score, recall_score, f1_score, confusion_matrix\n",
        "import seaborn as sns\n",
        "import numpy as np"
      ]
    },
    {
      "cell_type": "markdown",
      "metadata": {
        "id": "IRZFbO2WG92p"
      },
      "source": [
        "<style>\n",
        "blue {\n",
        "  color: skyblue;\n",
        "}\n",
        "\n",
        "red {\n",
        "  color: red;\n",
        "}\n",
        "\n",
        "green {\n",
        "  color: lightgreen;\n",
        "}\n",
        "</style>\n",
        "\n",
        "### **Step - 2**\n",
        "1) The <blue>**device**</blue> variable ensures the model runs on a <green>**GPU**</green> if available; otherwise, it falls back to a <green>**CPU**</green>.\n",
        "2) The <blue>**transform**</blue> object defines the <green>**preprocessing**</green> steps for images\n",
        "3) <blue>**ToTensor()**</blue> converts images to tensors.\n",
        "4) <blue>**Normalize((0.5,), (0.5,))**</blue> normalizes the images to a range between -1 and 1, helping with better convergence during training."
      ]
    },
    {
      "cell_type": "code",
      "execution_count": 2,
      "metadata": {
        "id": "UHAVUCwKG92p"
      },
      "outputs": [],
      "source": [
        "# Set device (GPU if available, else CPU)\n",
        "device = torch.device('cuda' if torch.cuda.is_available() else 'cpu')\n",
        "\n",
        "# Define the transformations (Normalization)\n",
        "transform = transforms.Compose([\n",
        "    transforms.ToTensor(),\n",
        "    transforms.Normalize((0.5,), (0.5,))  # Normalize the dataset to range [-1, 1]\n",
        "])"
      ]
    },
    {
      "cell_type": "markdown",
      "metadata": {
        "id": "PlYl7XeaG92q"
      },
      "source": [
        "<style>\n",
        "blue {\n",
        "  color: skyblue;\n",
        "}\n",
        "\n",
        "red {\n",
        "  color: red;\n",
        "}\n",
        "\n",
        "green {\n",
        "  color: lightgreen;\n",
        "}\n",
        "</style>\n",
        "\n",
        "### **Step - 3**\n",
        "1) This code outlines loading the <blue>**MNIST**</blue> dataset for <green>**handwritten digit recognition**</green>.\n",
        "2) The <blue>**train_loader**</blue> and <blue>**test_loader**</blue> are used to load the datasets in batches of 64, with shuffling applied only to the training set.\n",
        "3) The <blue>**dataiter**</blue> and next commands allow viewing a batch of images and labels, which can be useful for visualization before training.\n",
        "\n",
        "\n",
        "Note: The placeholders **\"None\"** need to be replaced with the correct dataset-loading code."
      ]
    },
    {
      "cell_type": "code",
      "execution_count": 18,
      "metadata": {
        "id": "tO7muGznG92q",
        "colab": {
          "base_uri": "https://localhost:8080/"
        },
        "outputId": "8a64ea31-d0f6-4bf3-e682-af12a53d0b30"
      },
      "outputs": [
        {
          "output_type": "stream",
          "name": "stdout",
          "text": [
            "Dataset MNIST\n",
            "    Number of datapoints: 60000\n",
            "    Root location: ./data\n",
            "    Split: Train\n",
            "    StandardTransform\n",
            "Transform: Compose(\n",
            "               ToTensor()\n",
            "               Normalize(mean=(0.5,), std=(0.5,))\n",
            "           )\n"
          ]
        }
      ],
      "source": [
        "# Load the MNIST dataset\n",
        "# TODO: Download and load the training and test sets using torchvision.datasets\n",
        "import torchvision.datasets as datasets\n",
        "\n",
        "train_dataset = datasets.MNIST(root='./data', train=True, download=True, transform=transform)\n",
        "test_dataset = datasets.MNIST(root='./data', train=False, download=True, transform=transform)\n",
        "\n",
        "train_loader = DataLoader(dataset=train_dataset, batch_size=64, shuffle=True)\n",
        "test_loader = DataLoader(dataset=test_dataset, batch_size=64, shuffle=False)\n",
        "\n",
        "# Visualize some images (Optional)\n",
        "dataiter = iter(train_loader)\n",
        "images, labels = next(dataiter)"
      ]
    },
    {
      "cell_type": "markdown",
      "metadata": {
        "id": "4-pC0SfFG92q"
      },
      "source": [
        "<style>\n",
        "blue {\n",
        "  color: skyblue;\n",
        "}\n",
        "\n",
        "red {\n",
        "  color: red;\n",
        "}\n",
        "\n",
        "green {\n",
        "  color: lightgreen;\n",
        "}\n",
        "</style>\n",
        "\n",
        "### **Step - 4**\n",
        "1) This code defines a simple <green>**feedforward artificial neural network (ANN)**</green> for classifying MNIST digits.\n",
        "2) The model has three fully connected layers <blue>**(fc1, fc2, fc3)**</blue>, and the final layer outputs predictions for <green>**10 classes (digits 0–9)**</green>.\n",
        "3) The <green>**forward pass**</green> describes how the input data flows through the network\n",
        "4) The input image is first <green>**flattened**</green>.\n",
        "5) It passes through fully connected layers with <blue>**ReLU activation function**</blue>.\n",
        "\n",
        "Note: Replace the placeholders **\"None\"** with the appropriate numbers of units and activation functions in each layer."
      ]
    },
    {
      "cell_type": "code",
      "execution_count": 11,
      "metadata": {
        "id": "gRyTxsQ4G92q"
      },
      "outputs": [],
      "source": [
        "# Define the neural network model\n",
        "class ANN(nn.Module):\n",
        "    def __init__(self, h1 = 50, h2 = 50):\n",
        "        super(ANN, self).__init__()\n",
        "        # TODO: Define the layers (Flatten, Fully Connected, Activation functions)\n",
        "        self.fc1 = nn.Linear(28*28, h1)  # h1 -> number of nodes in first hidden layer\n",
        "        self.fc2 = nn.Linear(h1, h2)   # h2 -> number of nodes in second hidden layer\n",
        "        self.fc3 = nn.Linear(h2, 10)     # Output layer for 10 classes\n",
        "\n",
        "    def forward(self, x):\n",
        "        # TODO: Implement the forward pass\n",
        "        x = x.view(-1, 28*28)  # Flatten the image\n",
        "        x = F.relu(self.fc1(x))  # First fully connected layer + activation\n",
        "        x = F.relu(self.fc2(x))  # Second fully connected layer + activation\n",
        "        x = self.fc3(x)  # Output layer\n",
        "        return x"
      ]
    },
    {
      "cell_type": "markdown",
      "metadata": {
        "id": "5GPcmR0pG92r"
      },
      "source": [
        "<style>\n",
        "blue {\n",
        "  color: skyblue;\n",
        "}\n",
        "\n",
        "red {\n",
        "  color: red;\n",
        "}\n",
        "\n",
        "green {\n",
        "  color: lightgreen;\n",
        "}\n",
        "</style>\n",
        "\n",
        "### **Step - 5**\n",
        "1) The <blue>**ANN model**</blue> is instantiated and moved to the <green>**selected device (CPU or GPU)**</green>.\n",
        "2) The loss function is set to <blue>**CrossEntropyLoss**</blue>, which is suitable for <green>**multi-class classification**</green> problems like MNIST.\n",
        "3) The optimizer is <blue>**Adam**</blue>, with a <blue>**learning rate**</blue> of <green>**0.001**</green>, used to adjust the model parameters during training based on gradients computed from the loss."
      ]
    },
    {
      "cell_type": "code",
      "execution_count": 24,
      "metadata": {
        "id": "A5YikQbWG92r"
      },
      "outputs": [],
      "source": [
        "# Initialize the model, loss function, and optimizer\n",
        "model = ANN().to(device)\n",
        "criterion = nn.CrossEntropyLoss()\n",
        "optimizer = optim.Adam(model.parameters(), lr=0.001)"
      ]
    },
    {
      "cell_type": "markdown",
      "metadata": {
        "id": "u-smS23TG92s"
      },
      "source": [
        "<style>\n",
        "blue {\n",
        "  color: skyblue;\n",
        "}\n",
        "\n",
        "red {\n",
        "  color: red;\n",
        "}\n",
        "\n",
        "green {\n",
        "  color: lightgreen;\n",
        "}\n",
        "</style>\n",
        "\n",
        "### **Step - 6**\n",
        "This code trains the neural network over a specified number of epochs (num_epochs).\n",
        "For each batch of images and labels, the following steps are performed:\n",
        "1) <blue>**Data Movement**</blue>: Images and labels are moved to the <green>**device (CPU or GPU)**</green>.\n",
        "2) <blue>**Forward Pass**</blue>: Images pass through the network to compute the <green>**output predictions**</green>.\n",
        "3) <blue>**Loss Calculation**</blue>: The loss between the predictions and true labels is computed and added to <blue>**ls_losses**</blue> for tracking.\n",
        "4) <blue>**Backpropagation and Optimization**</blue>: Gradients are calculated using backpropagation, and the optimizer <green>**updates the model parameters**</green> based on these gradients.\n",
        "\n",
        "Every 100 batches, the loss is printed to monitor training progress."
      ]
    },
    {
      "cell_type": "code",
      "execution_count": 28,
      "metadata": {
        "id": "p8cxNnGeG92s",
        "colab": {
          "base_uri": "https://localhost:8080/"
        },
        "outputId": "0dc3181c-aa9b-4e47-95b2-160d4513ace4"
      },
      "outputs": [
        {
          "output_type": "stream",
          "name": "stdout",
          "text": [
            "Epoch [1/5], Step [100/938], Loss: 0.6450\n",
            "Epoch [1/5], Step [200/938], Loss: 0.5162\n",
            "Epoch [1/5], Step [300/938], Loss: 0.5612\n",
            "Epoch [1/5], Step [400/938], Loss: 0.3571\n",
            "Epoch [1/5], Step [500/938], Loss: 0.1992\n",
            "Epoch [1/5], Step [600/938], Loss: 0.4557\n",
            "Epoch [1/5], Step [700/938], Loss: 0.5068\n",
            "Epoch [1/5], Step [800/938], Loss: 0.4670\n",
            "Epoch [1/5], Step [900/938], Loss: 0.2440\n",
            "Epoch [2/5], Step [100/938], Loss: 0.2019\n",
            "Epoch [2/5], Step [200/938], Loss: 0.1655\n",
            "Epoch [2/5], Step [300/938], Loss: 0.2167\n",
            "Epoch [2/5], Step [400/938], Loss: 0.2195\n",
            "Epoch [2/5], Step [500/938], Loss: 0.3627\n",
            "Epoch [2/5], Step [600/938], Loss: 0.1841\n",
            "Epoch [2/5], Step [700/938], Loss: 0.1716\n",
            "Epoch [2/5], Step [800/938], Loss: 0.2988\n",
            "Epoch [2/5], Step [900/938], Loss: 0.2881\n",
            "Epoch [3/5], Step [100/938], Loss: 0.0530\n",
            "Epoch [3/5], Step [200/938], Loss: 0.3995\n",
            "Epoch [3/5], Step [300/938], Loss: 0.3180\n",
            "Epoch [3/5], Step [400/938], Loss: 0.0797\n",
            "Epoch [3/5], Step [500/938], Loss: 0.0979\n",
            "Epoch [3/5], Step [600/938], Loss: 0.0790\n",
            "Epoch [3/5], Step [700/938], Loss: 0.2215\n",
            "Epoch [3/5], Step [800/938], Loss: 0.1214\n",
            "Epoch [3/5], Step [900/938], Loss: 0.1754\n",
            "Epoch [4/5], Step [100/938], Loss: 0.0739\n",
            "Epoch [4/5], Step [200/938], Loss: 0.1904\n",
            "Epoch [4/5], Step [300/938], Loss: 0.0414\n",
            "Epoch [4/5], Step [400/938], Loss: 0.2091\n",
            "Epoch [4/5], Step [500/938], Loss: 0.1181\n",
            "Epoch [4/5], Step [600/938], Loss: 0.1210\n",
            "Epoch [4/5], Step [700/938], Loss: 0.1622\n",
            "Epoch [4/5], Step [800/938], Loss: 0.1377\n",
            "Epoch [4/5], Step [900/938], Loss: 0.0682\n",
            "Epoch [5/5], Step [100/938], Loss: 0.0697\n",
            "Epoch [5/5], Step [200/938], Loss: 0.0845\n",
            "Epoch [5/5], Step [300/938], Loss: 0.2123\n",
            "Epoch [5/5], Step [400/938], Loss: 0.1373\n",
            "Epoch [5/5], Step [500/938], Loss: 0.0847\n",
            "Epoch [5/5], Step [600/938], Loss: 0.1257\n",
            "Epoch [5/5], Step [700/938], Loss: 0.2101\n",
            "Epoch [5/5], Step [800/938], Loss: 0.2222\n",
            "Epoch [5/5], Step [900/938], Loss: 0.1274\n"
          ]
        }
      ],
      "source": [
        "# Training the network\n",
        "num_epochs = 5\n",
        "ls_losses = []\n",
        "for epoch in range(num_epochs):\n",
        "    for i, (images, labels) in enumerate(train_loader):\n",
        "        # TODO: Move images and labels to the device\n",
        "        images = images.to(device)\n",
        "        labels = labels.to(device)\n",
        "        images = images.reshape(images.shape[0], -1)  # Replace None with code to move images to device and flatten\n",
        "\n",
        "        # print(images.shape)\n",
        "\n",
        "        # Forward pass\n",
        "        outputs = model(images)  # Forward pass through the model\n",
        "        loss = criterion(outputs, labels)     # Compute the loss\n",
        "        ls_losses.append(loss.detach().cpu().numpy())\n",
        "\n",
        "        # Backward and optimize\n",
        "        optimizer.zero_grad()\n",
        "        loss.backward()  # Backward pass\n",
        "        optimizer.step()  # Optimize the weights\n",
        "\n",
        "        if (i+1) % 100 == 0:\n",
        "            print(f'Epoch [{epoch+1}/{num_epochs}], Step [{i+1}/{len(train_loader)}], Loss: {loss.item():.4f}')"
      ]
    },
    {
      "cell_type": "markdown",
      "metadata": {
        "id": "JbCRufOzG92s"
      },
      "source": [
        "<style>\n",
        "blue {\n",
        "  color: skyblue;\n",
        "}\n",
        "\n",
        "red {\n",
        "  color: red;\n",
        "}\n",
        "\n",
        "green {\n",
        "  color: lightgreen;\n",
        "}\n",
        "</style>\n",
        "\n",
        "### **Step - 7**\n",
        "1) This code plots the <blue>**training losses**</blue> that were recorded in <blue>**ls_losses**</blue> during training.\n",
        "2) The <blue>**x-axis**</blue> represents the <green>**number of samples (batches)**</green> seen during training, and the <blue>**y-axis**</blue> shows the <green>**corresponding loss**</green>.\n",
        "3) It provides a visual representation of how the <green>**model's loss decreases over time**</green>, indicating whether the training is progressing well."
      ]
    },
    {
      "cell_type": "code",
      "execution_count": 36,
      "metadata": {
        "id": "zp5zvU2AG92t",
        "colab": {
          "base_uri": "https://localhost:8080/",
          "height": 450
        },
        "outputId": "3cd29a52-bcca-4903-a6ec-e4a12b95aa5b"
      },
      "outputs": [
        {
          "output_type": "display_data",
          "data": {
            "text/plain": [
              "<Figure size 640x480 with 1 Axes>"
            ],
            "image/png": "[encoded data removed]"
          },
          "metadata": {}
        }
      ],
      "source": [
        "# Plot Losses\n",
        "x_axis = np.arange(0, len(ls_losses), 1)\n",
        "plt.plot(x_axis, ls_losses)\n",
        "plt.xlabel = \"Sample\"\n",
        "plt.ylabel = \"Loss\""
      ]
    },
    {
      "cell_type": "markdown",
      "metadata": {
        "id": "sdXmE9-LG92t"
      },
      "source": [
        "<style>\n",
        "blue {\n",
        "  color: skyblue;\n",
        "}\n",
        "\n",
        "red {\n",
        "  color: red;\n",
        "}\n",
        "\n",
        "green {\n",
        "  color: lightgreen;\n",
        "}\n",
        "</style>\n",
        "\n",
        "### **Step - 8**\n",
        "This block evaluates the model on the test dataset.\\\n",
        "<blue>**model.eval()**</blue> sets the model to <green>**evaluation mode**</green>, disabling dropout layers and stopping the computation of gradients to save memory and speed up computations.\n",
        "For each batch of test images:\n",
        "1) <blue>**Data Movement**</blue>: Images and labels are moved to the <green>**device (CPU/GPU)**</green>.\n",
        "2) <blue>**Forward Pass**</blue>: Images pass through the network to compute <green>**predictions**</green>.\n",
        "3) <blue>**Accuracy Calculation**</blue>: The model's predictions are compared to the true labels, and the <green>**accuracy**</green> is calculated.\n",
        "4) <blue>**Storing Results**</blue>: Predictions and true labels are saved to <green>**calculate metrics**</green> later.\n",
        "\n",
        "At the end of testing, the accuracy of the model on the test dataset is printed.\n",
        "\n",
        "Note: Replace the placeholders **\"None\"** with the appropriate code for data movement, prediction, and storing results."
      ]
    },
    {
      "cell_type": "code",
      "execution_count": 56,
      "metadata": {
        "id": "F77tHlUCG92t",
        "colab": {
          "base_uri": "https://localhost:8080/"
        },
        "outputId": "671ad7f5-6b32-45a7-b1b1-11afdfbc0098"
      },
      "outputs": [
        {
          "output_type": "stream",
          "name": "stdout",
          "text": [
            "Accuracy of the network on the test images: 95.55%\n"
          ]
        }
      ],
      "source": [
        "# Testing the model\n",
        "model.eval()  # Set the model to evaluation mode\n",
        "all_preds = []\n",
        "all_labels = []\n",
        "with torch.no_grad():\n",
        "    correct = 0\n",
        "    total = 0\n",
        "    for images, labels in test_loader:\n",
        "        # TODO: Move images and labels to the device\n",
        "        images = images.to(device)\n",
        "        labels = labels.to(device)\n",
        "\n",
        "        outputs = model(images)  # Forward pass through the model\n",
        "        _, predicted = torch.max(outputs.data, 1)\n",
        "        total += labels.size(0)\n",
        "        correct += (predicted == labels).sum().item()\n",
        "\n",
        "        # TODO: Append predictions and labels for metrics\n",
        "        all_preds.extend(predicted)  # Append predictions to the list\n",
        "        all_labels.extend(labels)  # Append actual labels to the list\n",
        "\n",
        "    print(f'Accuracy of the network on the test images: {100 * correct / total}%')"
      ]
    },
    {
      "cell_type": "code",
      "source": [
        "all_preds = torch.tensor(all_preds) # Replace None with correct code to convert to numpy array\n",
        "all_labels = torch.tensor(all_labels)\n",
        "\n",
        "all_preds = all_preds.cpu().numpy()\n",
        "all_labels = all_labels.cpu().numpy()\n",
        "\n",
        "# all_preds = all_preds.numpy()\n",
        "# all_labels = all_labels.numpy()"
      ],
      "metadata": {
        "id": "gHr5gPIosldy"
      },
      "execution_count": 59,
      "outputs": []
    },
    {
      "cell_type": "markdown",
      "metadata": {
        "id": "EO4dIA9PG92t"
      },
      "source": [
        "<style>\n",
        "blue {\n",
        "  color: skyblue;\n",
        "}\n",
        "\n",
        "red {\n",
        "  color: red;\n",
        "}\n",
        "\n",
        "green {\n",
        "  color: lightgreen;\n",
        "}\n",
        "</style>\n",
        "\n",
        "### **Step - 9**\n",
        "This code calculates key performance metrics to evaluate the model:\n",
        "1) <blue>**Accuracy**</blue>: Percentage of correctly classified samples.\n",
        "2) <blue>**Precision**</blue>: Proportion of true positive predictions out of all positive predictions.\n",
        "3) <blue>**Recall**</blue>: Proportion of true positives out of actual positive samples.\n",
        "4) <blue>**F1-Score**</blue>: <green>**Harmonic mean**</green> of precision and recall.\n",
        "5) The <blue>**confusion matrix**</blue> is also calculated, showing the number of correct and incorrect predictions for each class. It is visualized using a <green>**heatmap**</green>, where the <blue>**rows**</blue> represent <green>**true labels**</green>, and the <blue>**columns**</blue> represent <green>**predicted labels**</green>.\n",
        "\n",
        "Note: Replace the placeholders **\"None\"** with the appropriate code to calculate the metrics using sklearn and compute the confusion matrix."
      ]
    },
    {
      "cell_type": "code",
      "execution_count": 68,
      "metadata": {
        "id": "LSciyTSZG92t",
        "colab": {
          "base_uri": "https://localhost:8080/",
          "height": 788
        },
        "outputId": "0d8bce4d-231c-4b2a-e2a2-bc7b74ce453f"
      },
      "outputs": [
        {
          "output_type": "stream",
          "name": "stdout",
          "text": [
            "Accuracy: 95.55%\n",
            "Precision: 0.9561\n",
            "Recall: 0.9552\n",
            "F1-Score: 0.9553\n"
          ]
        },
        {
          "output_type": "display_data",
          "data": {
            "text/plain": [
              "<Figure size 1000x800 with 2 Axes>"
            ],
            "image/png": "[encoded data removed]"
          },
          "metadata": {}
        }
      ],
      "source": [
        "# TODO: Convert predictions and labels to numpy arrays for metric calculation\n",
        "all_preds = torch.tensor(all_preds)\n",
        "all_labels = torch.tensor(all_labels)\n",
        "\n",
        "all_preds = all_preds.cpu().numpy()\n",
        "all_labels = all_labels.cpu().numpy()\n",
        "\n",
        "# Calculate accuracy, precision, recall, and F1-score\n",
        "# TODO: Use sklearn to calculate accuracy, precision, recall, and F1-score\n",
        "accuracy = accuracy_score(all_labels, all_preds)  # Replace None with the correct calculation\n",
        "precision = precision_score(all_labels, all_preds, average='macro')  # Replace None with the correct calculation\n",
        "recall = recall_score(all_labels, all_preds, average='macro')  # Replace None with the correct calculation\n",
        "f1 = f1_score(all_labels, all_preds, average='macro')  # Replace None with the correct calculation\n",
        "\n",
        "print(f'Accuracy: {accuracy * 100:.2f}%')\n",
        "print(f'Precision: {precision:.4f}')\n",
        "print(f'Recall: {recall:.4f}')\n",
        "print(f'F1-Score: {f1:.4f}')\n",
        "\n",
        "# TODO: Confusion matrix calculation\n",
        "conf_matrix = confusion_matrix(all_labels, all_preds)  # Replace None with correct code to compute the confusion matrix\n",
        "plt.figure(figsize=(10, 8))\n",
        "sns.heatmap(conf_matrix, annot=True, fmt='d', cmap='Blues', xticklabels=range(10), yticklabels=range(10))\n",
        "plt.title('Confusion Matrix')\n",
        "# plt.ylabel('True Label')\n",
        "# plt.xlabel('Predicted Label')\n",
        "plt.show()"
      ]
    }
  ],
  "metadata": {
    "kernelspec": {
      "display_name": "Python 3",
      "name": "python3"
    },
    "language_info": {
      "codemirror_mode": {
        "name": "ipython",
        "version": 3
      },
      "file_extension": ".py",
      "mimetype": "text/x-python",
      "name": "python",
      "nbconvert_exporter": "python",
      "pygments_lexer": "ipython3",
      "version": "3.11.9"
    },
    "colab": {
      "provenance": [],
      "gpuType": "T4",
      "include_colab_link": true
    },
    "accelerator": "GPU"
  },
  "nbformat": 4,
  "nbformat_minor": 0
}